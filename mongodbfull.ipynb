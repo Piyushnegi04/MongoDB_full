{
 "cells": [
  {
   "cell_type": "markdown",
   "metadata": {},
   "source": [
    "### MONGODB CRUD FUNCTIONS"
   ]
  },
  {
   "cell_type": "markdown",
   "metadata": {},
   "source": [
    "#### Establish Connection..."
   ]
  },
  {
   "cell_type": "code",
   "execution_count": null,
   "metadata": {},
   "outputs": [],
   "source": [
    "from bson import ObjectId\n",
    "from pymongo import MongoClient\n",
    "client = MongoClient(\"mongodb://localhost:27017/\")\n",
    "mydatabase = client[\"userdatabase\"]\n",
    "mycollection = mydatabase[\"users\"]"
   ]
  },
  {
   "cell_type": "markdown",
   "metadata": {},
   "source": [
    "### Insert 25 Users"
   ]
  },
  {
   "cell_type": "code",
   "execution_count": null,
   "metadata": {},
   "outputs": [],
   "source": [
    "user = [\n",
    "  { \"id\": 1, \"name\": \"Avi Negi\", \"age\": 19, \"projects\": [{\"name\": \"Project X\", \"budget\": 12000}, {\"name\": \"Project Y\", \"budget\": 8000}], \"skills\":[\"C\",\"C++\",\"Python\",\"MongoDB\",\"JavaScript\"], \"email\": \"avi.negi@email.com\", \"state\": \"Uttarakhand\", \"department\": \"Devlopment\", \"salary\": 95000 },\n",
    "  { \"id\": 2, \"name\": \"Emily Johnson\", \"age\": 28, \"projects\": [{\"name\": \"Project Z\", \"budget\": 5000}], \"skills\":[\"Python\",\"SQL\"], \"email\": \"emily.johnson@email.com\", \"state\": \"Texas\", \"department\": \"Marketing\", \"salary\": 62000 },\n",
    "  { \"id\": 3, \"name\": \"Michael Williams\", \"age\": 45, \"projects\": [{\"name\": \"Project A\", \"budget\": 10000}, {\"name\": \"Project B\", \"budget\": 15000}], \"skills\":[\"Python\",\"MongoDB\",\"JavaScript\"], \"email\": \"michael.williams@email.com\", \"state\": \"New York\", \"department\": \"Devlopment\", \"salary\": 95000 },\n",
    "  { \"id\": 4, \"name\": \"Sarah Brown\", \"age\": 31, \"email\": \"sarah.brown@email.com\", \"state\": \"Florida\", \"department\": \"HR\", \"salary\": 70000 },\n",
    "  { \"id\": 5, \"name\": \"David Jones\", \"age\": 38, \"email\": \"david.jones@email.com\", \"state\": \"Illinois\", \"department\": \"Sales\", \"salary\": 78000 },\n",
    "  { \"id\": 6, \"name\": \"Amanda Miller\", \"age\": 29, \"email\": \"amanda.miller@email.com\", \"state\": \"Georgia\", \"department\": \"Marketing\", \"salary\": 63500 },\n",
    "  { \"id\": 7, \"name\": \"Matthew Davis\", \"age\": 40, \"email\": \"matthew.davis@email.com\", \"state\": \"Ohio\", \"department\": \"Devlopment\", \"salary\": 90000 },\n",
    "  { \"id\": 8, \"name\": \"Jessica Wilson\", \"age\": 27, \"email\": \"jessica.wilson@email.com\", \"state\": \"Michigan\", \"department\": \"HR\", \"salary\": 68000 },\n",
    "  { \"id\": 9, \"name\": \"Daniel Martinez\", \"age\": 50, \"email\": \"daniel.martinez@email.com\", \"state\": \"Colorado\", \"department\": \"Sales\", \"salary\": 85500 },\n",
    "  { \"id\": 10, \"name\": \"Megan Anderson\", \"age\": 33, \"email\": \"megan.anderson@email.com\", \"state\": \"Washington\", \"department\": \"Marketing\", \"salary\": 65000 },\n",
    "  { \"id\": 11, \"name\": \"Ryan Thomas\", \"age\": 36, \"email\": \"ryan.thomas@email.com\", \"state\": \"Arizona\", \"department\": \"Sales\", \"salary\": 80000 },\n",
    "  { \"id\": 12, \"name\": \"Rebecca Taylor\", \"age\": 24, \"email\": \"rebecca.taylor@email.com\", \"state\": \"Nevada\", \"department\": \"Devlopment\", \"salary\": 82000 },\n",
    "  { \"id\": 13, \"name\": \"Andrew Moore\", \"age\": 43, \"email\": \"andrew.moore@email.com\", \"state\": \"Oregon\", \"department\": \"HR\", \"salary\": 72500 },\n",
    "  { \"id\": 14, \"name\": \"Lauren Jackson\", \"age\": 32, \"email\": \"lauren.jackson@email.com\", \"state\": \"Utah\", \"department\": \"Marketing\", \"salary\": 66500 },\n",
    "  { \"id\": 15, \"name\": \"Jason White\", \"age\": 39, \"email\": \"jason.white@email.com\", \"state\": \"Virginia\", \"department\": \"Sales\", \"salary\": 79000 },\n",
    "  { \"id\": 16, \"name\": \"Kimberly Harris\", \"age\": 26, \"email\": \"kimberly.harris@email.com\", \"state\": \"Kansas\", \"department\": \"Devlopment\", \"salary\": 84000 },\n",
    "  { \"id\": 17, \"name\": \"Joshua Clark\", \"age\": 48, \"email\": \"joshua.clark@email.com\", \"state\": \"Indiana\", \"department\": \"Marketing\", \"salary\": 69000 },\n",
    "  { \"id\": 18, \"name\": \"Stephanie Lewis\", \"age\": 35, \"email\": \"stephanie.lewis@email.com\", \"state\": \"Missouri\", \"department\": \"HR\", \"salary\": 73500 },\n",
    "  { \"id\": 19, \"name\": \"Christopher Lee\", \"age\": 42, \"email\": \"christopher.lee@email.com\", \"state\": \"Pennsylvania\", \"department\": \"Engineering\", \"salary\": 92000 },\n",
    "  { \"id\": 20, \"name\": \"Melissa Walker\", \"age\": 29, \"email\": \"melissa.walker@email.com\", \"state\": \"North Carolina\", \"department\": \"Sales\", \"salary\": 77000 },\n",
    "  { \"id\": 21, \"name\": \"Benjamin Hall\", \"age\": 31, \"email\": \"benjamin.hall@email.com\", \"state\": \"Kentucky\", \"department\": \"Marketing\", \"salary\": 67000 },\n",
    "  { \"id\": 22, \"name\": \"Samantha Allen\", \"age\": 37, \"email\": \"samantha.allen@email.com\", \"state\": \"Wisconsin\", \"department\": \"HR\", \"salary\": 71000 },\n",
    "  { \"id\": 23, \"name\": \"Nathan Young\", \"age\": 44, \"email\": \"nathan.young@email.com\", \"state\": \"Tennessee\", \"department\": \"Sales\", \"salary\": 81000 },\n",
    "  { \"id\": 24, \"name\": \"Ashley King\", \"age\": 30, \"email\": \"ashley.king@email.com\", \"state\": \"Alabama\", \"department\": \"Engineering\", \"salary\": 86000 },\n",
    "  { \"id\": 25, \"name\": \"Brandon Scott\", \"age\": 41, \"email\": \"brandon.scott@email.com\", \"state\": \"Oklahoma\", \"department\": \"Marketing\", \"salary\": 64500 }\n",
    "]\n",
    "mycollection.insert_many(user)"
   ]
  },
  {
   "cell_type": "markdown",
   "metadata": {},
   "source": [
    "### FIND ALL QUARIES"
   ]
  },
  {
   "cell_type": "code",
   "execution_count": null,
   "metadata": {},
   "outputs": [],
   "source": [
    "## Find all documents in the collection\n",
    "results = mycollection.find()\n",
    "## Print each document\n",
    "for i in results:\n",
    "    print(i)"
   ]
  },
  {
   "cell_type": "code",
   "execution_count": null,
   "metadata": {},
   "outputs": [],
   "source": [
    "##To Find Specific Users by Name\n",
    "result = mycollection.find_one({\"name\": \"Avi Negi\"})\n",
    "print(result)"
   ]
  },
  {
   "cell_type": "code",
   "execution_count": null,
   "metadata": {},
   "outputs": [],
   "source": [
    "##To find the Users a Specific Department\n",
    "result = mycollection.find({\"department\": \"Devlopment\"})\n",
    "for i in result:\n",
    "    print(i)"
   ]
  },
  {
   "cell_type": "code",
   "execution_count": null,
   "metadata": {},
   "outputs": [],
   "source": [
    "##sort and limit----The sort() method is used to specify the order in which documents should be returned. \n",
    "##                      You can sort documents in ascending (1) or descending (-1) order.\n",
    "##                  The limit() method restricts the number of documents returned from a query.\n",
    "result = mycollection.find().sort(\"age\", -1).limit(5)\n",
    "for i in result:\n",
    "    print(i)"
   ]
  },
  {
   "cell_type": "code",
   "execution_count": null,
   "metadata": {},
   "outputs": [],
   "source": [
    "##$gt----To find Users with Salary Greater than 80,000\n",
    "result = mycollection.find({\"salary\": {\"$gt\": 80000}})\n",
    "for i in result:\n",
    "    print(i)"
   ]
  },
  {
   "cell_type": "code",
   "execution_count": null,
   "metadata": {},
   "outputs": [],
   "source": [
    "##$lt----To find Users with salary less than 80,000\n",
    "result = mycollection.find({\"salary\": {\"$lt\": 80000}})\n",
    "for i in result:\n",
    "    print(i)"
   ]
  },
  {
   "cell_type": "code",
   "execution_count": null,
   "metadata": {},
   "outputs": [],
   "source": [
    "##$lte----Users with salary less than or equal to 80,000\n",
    "result = mycollection.find({\"salary\": {\"$lte\": 80000}})\n",
    "for i in result:\n",
    "    print(i)"
   ]
  },
  {
   "cell_type": "code",
   "execution_count": null,
   "metadata": {},
   "outputs": [],
   "source": [
    "##$gte----Users with Salary Greater Than or Equal to 80,000\n",
    "result = mycollection.find({\"salary\": {\"$gte\": 80000}})\n",
    "for i in result:\n",
    "    print(i)"
   ]
  },
  {
   "cell_type": "code",
   "execution_count": null,
   "metadata": {},
   "outputs": [],
   "source": [
    "##$elemMatch-----dealing with arrays in MongoDB. If you have other conditions or nested structures, \n",
    "##          the $eleMatch approach can be used to query for specific elements in an array.\n",
    "result = mycollection.find({\n",
    "    \"projects\": {\n",
    "        \"$elemMatch\": {\n",
    "            \"budget\": {\"$gt\": 10000}\n",
    "        }\n",
    "    }\n",
    "})\n",
    "for i in result:\n",
    "    print(i)"
   ]
  },
  {
   "cell_type": "code",
   "execution_count": null,
   "metadata": {},
   "outputs": [],
   "source": [
    "##$all-----The $all operator in MongoDB is used to match an array field that contains all the specified elements. \n",
    "##       It ensures that all elements in the provided array exist in the target array field.\n",
    "result = mycollection.find({\n",
    "    \"skills\":{\n",
    "        \"$all\": [\"Python\", \"MongoDB\"]\n",
    "        }\n",
    "})\n",
    "for i in result:\n",
    "    print(i)"
   ]
  },
  {
   "cell_type": "code",
   "execution_count": null,
   "metadata": {},
   "outputs": [],
   "source": [
    "##$in-----The $in operator in MongoDB is used to match documents where a specified field's value exists in a given array of possible values. \n",
    "##         Unlike $all, which requires all values to be present in an array, \n",
    "##          $in matches if any of the values are present.\n",
    "result = mycollection.find({\n",
    "    \"state\":{\n",
    "        \"$in\": [\"Uttarakhand\", \"New York\", \"Texas\"]\n",
    "    }\n",
    "})\n",
    "for i in result:\n",
    "    print(i)"
   ]
  },
  {
   "cell_type": "code",
   "execution_count": null,
   "metadata": {},
   "outputs": [],
   "source": [
    "##$and----The $and operator in MongoDB is used to combine multiple conditions, \n",
    "##         and it matches documents that satisfy all of the specified conditions.\n",
    "result = mycollection.find({\n",
    "    \"$and\": [\n",
    "        {\"department\": \"Devlopment\"},\n",
    "        {\"salary\": {\"$gt\": 80000}}\n",
    "    ]\n",
    "})\n",
    "for i in result:\n",
    "    print(i)"
   ]
  },
  {
   "cell_type": "code",
   "execution_count": null,
   "metadata": {},
   "outputs": [],
   "source": [
    "##$or-----The $or operator in MongoDB is used to match documents that satisfy any of the specified conditions.\n",
    "##         and if at least one of them is true, the document will be included in the result set.\n",
    "result = mycollection.find({\n",
    "    \"$or\":[\n",
    "        {\"state\": \"Uttarakhand\"},\n",
    "        {\"salary\": {\"$lt\": 70000}}\n",
    "    ]\n",
    "})\n",
    "for i in result:\n",
    "    print(i)"
   ]
  },
  {
   "cell_type": "code",
   "execution_count": null,
   "metadata": {},
   "outputs": [],
   "source": [
    "##$and with multiple $or-----allows you to build complex queries where some conditions must be met together,\n",
    "##                             while others are flexible and can be met in any combination.\n",
    "result = mycollection.find({\n",
    "    \"$or\": [\n",
    "        {\"$and\":[\n",
    "            {\"state\": \"Uttarakhand\"},\n",
    "            {\"$or\":[\n",
    "                {\"salary\": {\"gt\": 80000}},\n",
    "                {\"age\": {\"lt\": 30}}\n",
    "            ]}\n",
    "        ]},\n",
    "        {\"$and\":[\n",
    "            {\"state\": \"Texas\"},\n",
    "            {\"salary\": {\"$gte\": 60000, \"$lte\": 80000}}\n",
    "        ]}\n",
    "    ]\n",
    "})\n",
    "for i in result:\n",
    "    print(i)"
   ]
  },
  {
   "cell_type": "code",
   "execution_count": null,
   "metadata": {},
   "outputs": [],
   "source": [
    "##$not-----The $not operator in MongoDB is used to exclude documents that match the specified\n",
    "##         condition. It is used to negate the condition specified in the query.\n",
    "result = mycollection.find({\n",
    "    \"department\": { \"$not\": { \"$eq\": \"HR\" } }\n",
    "})\n",
    "for i in result:\n",
    "    print(i)"
   ]
  },
  {
   "cell_type": "code",
   "execution_count": null,
   "metadata": {},
   "outputs": [],
   "source": [
    "##$type------The $type operator in MongoDB is used to query documents based on the type of a field's value. \n",
    "##             It allows you to match documents where the field is of a specified data type.\n",
    "result = mycollection.find({\n",
    "    \"age\": { \"$type\": \"int\" }\n",
    "})\n",
    "for i in result:\n",
    "    print(i)"
   ]
  },
  {
   "cell_type": "markdown",
   "metadata": {},
   "source": [
    "### REPLACE QUARIES"
   ]
  },
  {
   "cell_type": "code",
   "execution_count": null,
   "metadata": {},
   "outputs": [],
   "source": [
    "##Define the filter and replacement document\n",
    "filter = { \"id\": 5}\n",
    "replacement = {\n",
    "    \"id\": 5,\n",
    "    \"name\": \"David Jones\",\n",
    "    \"age\": 40,\n",
    "    \"email\": \"jones@email.com\",\n",
    "    \"state\": \"illinois\",\n",
    "    \"department\": \"Sales\",\n",
    "    \"salary\": 80000\n",
    "}\n",
    "##Replace the document\n",
    "result = mycollection.replace_one(filter, replacement, upsert = False)\n",
    "print(f\"Matched {result.matched_count} document(s)\")\n",
    "print(f\"Modified {result.modified_count} document(s)\")"
   ]
  },
  {
   "cell_type": "markdown",
   "metadata": {},
   "source": [
    "### UPDATE ALL QUARIES"
   ]
  },
  {
   "cell_type": "code",
   "execution_count": null,
   "metadata": {},
   "outputs": [],
   "source": [
    "##Using $set-----Sets the value of a field. If the field does not exist, it will be created. \n",
    "document_id = ObjectId(\"66e2cc5aead6ab93462af0cb\")\n",
    "filter = { \"_id\": document_id }\n",
    "update = {\n",
    "    \"$set\": {\n",
    "        \"id\": 4,\n",
    "        \"salary\": 60000,\n",
    "        \"department\": \"HR\"\n",
    "    }\n",
    "}\n",
    "result = mycollection.update_one(filter, update)\n",
    "print(f\"Matched {result.matched_count} document(s)\")\n",
    "print(f\"Modified {result.modified_count} document(s)\")"
   ]
  },
  {
   "cell_type": "code",
   "execution_count": null,
   "metadata": {},
   "outputs": [],
   "source": [
    "##$upset----Removes a field from a document\n",
    "filter = {\"id\": 26}\n",
    "update= {\n",
    "    \"$unset\": {\"age\": \"49\"}\n",
    "}\n",
    "result = mycollection.update_one(filter, update)\n",
    "print(f\"Matched {result.matched_count} document(s)\")\n",
    "print(f\"Modified {result.modified_count} document(s)\")"
   ]
  },
  {
   "cell_type": "code",
   "execution_count": null,
   "metadata": {},
   "outputs": [],
   "source": [
    "##Using $inc-----Increments the value of a field by a specified amount.\n",
    "filter = {\"id\": 6}\n",
    "update = {\n",
    "    \"$inc\": {\"salary\": 1000}\n",
    "}\n",
    "result = mycollection.update_one(filter, update)\n",
    "print(f\"Matched {result.matched_count} document(s)\")\n",
    "print(f\"Modified {result.modified_count} document(s)\")"
   ]
  },
  {
   "cell_type": "code",
   "execution_count": null,
   "metadata": {},
   "outputs": [],
   "source": [
    "##$push-----Adds an item to an array field.\n",
    "filter = {\"id\": 7}\n",
    "update = {\n",
    "    \"$push\": {\"skills\": [\"Project Management\", \"ML\"]}\n",
    "}\n",
    "result = mycollection.update_one(filter, update)\n",
    "print(f\"Matched {result.matched_count} document(s)\")\n",
    "print(f\"Modified {result.modified_count} document(s)\")"
   ]
  },
  {
   "cell_type": "code",
   "execution_count": null,
   "metadata": {},
   "outputs": [],
   "source": [
    "##$pull-----Removes an item from an array field.\n",
    "filter = {\"id\": 7}\n",
    "update = {\n",
    "    \"$pull\": {\"skills\": \"Project Management\"}\n",
    "}\n",
    "result = mycollection.update_one(filter, update)\n",
    "print(f\"Matched {result.matched_count} document(s)\")\n",
    "print(f\"Modified {result.modified_count} document(s)\")"
   ]
  },
  {
   "cell_type": "code",
   "execution_count": null,
   "metadata": {},
   "outputs": [],
   "source": [
    "##$upsert-----when you want to ensure that a document is created if it does not already exist\n",
    "filter = { \"id\": 26 }\n",
    "update = {\n",
    "    \"$set\": {\n",
    "        \"name\": \"Samantha Carter\",\n",
    "        \"age\": \"49\",\n",
    "        \"email\": \"samantha.carter@email.com\",\n",
    "        \"state\": \"California\",\n",
    "        \"department\": \"Marketing\",\n",
    "        \"salary\": 65000\n",
    "    }\n",
    "}\n",
    "result = mycollection.update_one(filter, update, upsert=True)\n",
    "print(f\"Matched {result.matched_count} document(s)\")\n",
    "print(f\"Modified {result.modified_count} document(s)\")\n",
    "print(f\"Upserted ID: {result.upserted_id}\")"
   ]
  },
  {
   "cell_type": "code",
   "execution_count": null,
   "metadata": {},
   "outputs": [],
   "source": [
    "##Add a field in 26 database(using $set)\n",
    "filter = {\"id\": 26}\n",
    "update = {\n",
    "    \"$set\": {\"phone\": 1234567890}\n",
    "}\n",
    "result = mycollection.update_one(filter, update)\n",
    "print(f\"Matched {result.matched_count} document(s)\")\n",
    "print(f\"Modified {result.modified_count} document(s)\")"
   ]
  },
  {
   "cell_type": "code",
   "execution_count": null,
   "metadata": {},
   "outputs": [],
   "source": [
    "##UPDATE MANY\n",
    "filter = {\"department\": \"Engineering\"}\n",
    "update = {\n",
    "    \"$set\": {\"bonus\": 500}\n",
    "}\n",
    "result = mycollection.update_many(filter,update)\n",
    "print(f\"Matched {result.matched_count} document(s)\")\n",
    "print(f\"Modified {result.modified_count} document(s)\")"
   ]
  },
  {
   "cell_type": "markdown",
   "metadata": {},
   "source": [
    "### DELETE QUARIES"
   ]
  },
  {
   "cell_type": "code",
   "execution_count": null,
   "metadata": {},
   "outputs": [],
   "source": [
    "## delete_one-----deletes the first document that matches the filter criteria.\n",
    "filter = {\"id\": 32}\n",
    "result = mycollection.delete_one(filter)\n",
    "print(f\"Deleted {result.deleted_count} document(s)\")"
   ]
  },
  {
   "cell_type": "code",
   "execution_count": null,
   "metadata": {},
   "outputs": [],
   "source": [
    "## delete_many-----deletes all documents that match the filter criteria.\n",
    "filter = {\"department\": \"Site\"}\n",
    "result = mycollection.delete_many(filter)\n",
    "print(f\"Deleted {result.deleted_count} document(s)\")"
   ]
  },
  {
   "cell_type": "code",
   "execution_count": null,
   "metadata": {},
   "outputs": [],
   "source": [
    "## drop whole collection\n",
    "mycollection.drop()"
   ]
  },
  {
   "cell_type": "markdown",
   "metadata": {},
   "source": [
    "### AGGREGATION PIPELINES"
   ]
  },
  {
   "cell_type": "code",
   "execution_count": null,
   "metadata": {},
   "outputs": [],
   "source": [
    "##$match----the $match stage in an aggregation pipeline is used to filter \n",
    "##          documents based on specified criteria.\n",
    "pipeline = [\n",
    "    { \"$match\": { \"department\": \"Sales\", \"salary\": { \"$gt\": 80000 } } }\n",
    "]\n",
    "result = mycollection.aggregate(pipeline)\n",
    "for i in result:\n",
    "  print(i)"
   ]
  },
  {
   "cell_type": "code",
   "execution_count": null,
   "metadata": {},
   "outputs": [],
   "source": [
    "##$group----the $group stage in an aggregation pipeline is used to group documents by \n",
    "##                 a specified field and perform aggregation operations \n",
    "##             like sum, count, average, min, max, etc., on the grouped data.\n",
    "pipeline = [\n",
    "  {\n",
    "    \"$group\": {\n",
    "      \"_id\": \"$department\",\n",
    "      \"totalSalary\": { \"$sum\": \"$salary\" }\n",
    "    }\n",
    "  }\n",
    "]\n",
    "result = mycollection.aggregate(pipeline)\n",
    "for i in result:\n",
    "  print(i)"
   ]
  },
  {
   "cell_type": "code",
   "execution_count": null,
   "metadata": {},
   "outputs": [],
   "source": [
    "##$sort----the $sort stage in an aggregation pipeline is used to sort the documents.\n",
    "pipeline = [\n",
    "  { \"$sort\": { \"salary\": -1 } }  # Sort by salary in descending order\n",
    "]\n",
    "result = mycollection.aggregate(pipeline)\n",
    "for i in result:\n",
    "  print(i)"
   ]
  },
  {
   "cell_type": "code",
   "execution_count": null,
   "metadata": {},
   "outputs": [],
   "source": [
    "##$limit----the $limit stage in an aggregation pipeline is used to restrict \n",
    "##       the number of documents returned by the pipeline to a specified number.\n",
    "pipeline = [\n",
    "  { \"$limit\": 5 }  # Limit the result to 5 documents\n",
    "]\n",
    "result = mycollection.aggregate(pipeline)\n",
    "for i in result:\n",
    "  print(i)"
   ]
  },
  {
   "cell_type": "code",
   "execution_count": null,
   "metadata": {},
   "outputs": [],
   "source": [
    "##$project---- the $project stage in an aggregation pipeline is used to include, exclude, \n",
    "##                   or reshape fields in the output documents.\n",
    "pipeline = [\n",
    "  { \n",
    "    \"$project\": { \n",
    "      \"_id\": 0,  # Exclude the _id field\n",
    "      \"name\": 1,  # Include the name field\n",
    "      \"department\": 1,  # Include the department field\n",
    "      \"salary\": 1  # Include the salary field\n",
    "    } \n",
    "  }\n",
    "]\n",
    "result = mycollection.aggregate(pipeline)\n",
    "for i in result:\n",
    "    print(i)"
   ]
  },
  {
   "cell_type": "code",
   "execution_count": null,
   "metadata": {},
   "outputs": [],
   "source": [
    "##$set----the $set stage in an aggregation pipeline is used to add new fields or update existing fields in documents.\n",
    "pipeline = [\n",
    "  {\n",
    "    \"$set\": {\n",
    "      \"bonus\": { \"$multiply\": [\"$salary\", 0.10] }  # Add bonus as 10% of salary\n",
    "    }\n",
    "  }\n",
    "]\n",
    "result = mycollection.aggregate(pipeline)\n",
    "for i in result:\n",
    "  print(i)"
   ]
  },
  {
   "cell_type": "code",
   "execution_count": null,
   "metadata": {},
   "outputs": [],
   "source": [
    "##$count----$count is used in aggregation pipelines to count the number of documents.\n",
    "pipeline = [\n",
    "  { \"$match\": { \"department\": \"Engineering\" } },\n",
    "  { \"$count\": \"engineeringUsers\" }\n",
    "]\n",
    "result = mycollection.aggregate(pipeline)\n",
    "for i in result:\n",
    "  print(i)"
   ]
  },
  {
   "cell_type": "code",
   "execution_count": null,
   "metadata": {},
   "outputs": [],
   "source": [
    "##$out----the $out stage in an aggregation pipeline is used to write the results of the aggregation to a new collection.\n",
    "pipeline = [\n",
    "  { \n",
    "    \"$group\": { \n",
    "      \"_id\": \"$department\",\n",
    "      \"averageSalary\": { \"$avg\": \"$salary\" }\n",
    "    }\n",
    "  },\n",
    "  { \"$out\": \"department_averages\" }\n",
    "]\n",
    "mycollection.aggregate(pipeline)\n",
    "print(\"Aggregation result has been written to the 'department_averages' collection.\")\n",
    "# Retrieve and print the results from the 'department_averages' collection\n",
    "result = mydatabase[\"department_averages\"].find()\n",
    "for doc in result:\n",
    "  print(doc)"
   ]
  }
 ],
 "metadata": {
  "kernelspec": {
   "display_name": "base",
   "language": "python",
   "name": "python3"
  },
  "language_info": {
   "name": "python",
   "version": "3.11.5"
  }
 },
 "nbformat": 4,
 "nbformat_minor": 2
}
